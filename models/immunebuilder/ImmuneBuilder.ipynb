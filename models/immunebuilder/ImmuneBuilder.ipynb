{
 "cells": [
  {
   "cell_type": "code",
   "execution_count": null,
   "id": "e8024551-59da-4944-be16-a92d03c8fa68",
   "metadata": {
    "tags": []
   },
   "outputs": [],
   "source": [
    "from ImmuneBuilder import ABodyBuilder2"
   ]
  },
  {
   "cell_type": "code",
   "execution_count": null,
   "id": "de728f3b-1e9d-4267-8a4c-4cdd13eda0b3",
   "metadata": {},
   "outputs": [],
   "source": [
    "outfolder = \"./models\"\n",
    "fasta = \"./jain.fasta\""
   ]
  },
  {
   "cell_type": "code",
   "execution_count": null,
   "id": "eaf051e5-6aef-4dce-b033-8df4ac8fd4dd",
   "metadata": {
    "tags": []
   },
   "outputs": [],
   "source": [
    "sequences = {}\n",
    "with open(fasta) as f:\n",
    "    lines = f.read().splitlines() \n",
    "    for i in range(0,len(lines)//4):\n",
    "        line = lines[i*4:i*4+4]\n",
    "        name = line[0][1:-2]\n",
    "        sequences[name] = {\"H\":line[1], \"L\":line[3]}"
   ]
  },
  {
   "cell_type": "code",
   "execution_count": null,
   "id": "7903f471-267b-4b30-aeec-4b844c55d7cb",
   "metadata": {
    "tags": []
   },
   "outputs": [],
   "source": [
    "predictor = ABodyBuilder2()\n",
    "for name in sequences:\n",
    "    antibody = predictor.predict(sequences[name])\n",
    "    antibody.save(f\"{outfolder}/{name}.pdb\")"
   ]
  }
 ],
 "metadata": {
  "kernelspec": {
   "display_name": "Python 3 (ipykernel)",
   "language": "python",
   "name": "python3"
  },
  "language_info": {
   "codemirror_mode": {
    "name": "ipython",
    "version": 3
   },
   "file_extension": ".py",
   "mimetype": "text/x-python",
   "name": "python",
   "nbconvert_exporter": "python",
   "pygments_lexer": "ipython3",
   "version": "3.9.16"
  }
 },
 "nbformat": 4,
 "nbformat_minor": 5
}
